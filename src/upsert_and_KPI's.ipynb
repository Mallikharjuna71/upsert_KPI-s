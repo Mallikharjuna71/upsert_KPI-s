{
 "cells": [
  {
   "cell_type": "code",
   "execution_count": 0,
   "metadata": {
    "application/vnd.databricks.v1+cell": {
     "cellMetadata": {
      "byteLimit": 2048000,
      "rowLimit": 10000
     },
     "inputWidgets": {},
     "nuid": "20ec3d7c-f0d9-41ad-ac1d-73850aafaaac",
     "showTitle": true,
     "tableResultSettingsMap": {},
     "title": "imports"
    }
   },
   "outputs": [],
   "source": [
    "from pyspark.sql.functions import *\n",
    "from pyspark.sql.types import *"
   ]
  },
  {
   "cell_type": "code",
   "execution_count": 0,
   "metadata": {
    "application/vnd.databricks.v1+cell": {
     "cellMetadata": {
      "byteLimit": 2048000,
      "rowLimit": 10000
     },
     "inputWidgets": {},
     "nuid": "2842ab0c-ca49-4d9d-bb4e-7d46291f2066",
     "showTitle": true,
     "tableResultSettingsMap": {},
     "title": "creating dataframe"
    }
   },
   "outputs": [
    {
     "output_type": "display_data",
     "data": {
      "text/html": [
       "<style scoped>\n",
       "  .table-result-container {\n",
       "    max-height: 300px;\n",
       "    overflow: auto;\n",
       "  }\n",
       "  table, th, td {\n",
       "    border: 1px solid black;\n",
       "    border-collapse: collapse;\n",
       "  }\n",
       "  th, td {\n",
       "    padding: 5px;\n",
       "  }\n",
       "  th {\n",
       "    text-align: left;\n",
       "  }\n",
       "</style><div class='table-result-container'><table class='table-result'><thead style='background-color: white'><tr><th>id</th><th>year</th><th>month</th><th>fn</th><th>ln</th></tr></thead><tbody><tr><td>1</td><td>2023</td><td>jan</td><td>a1</td><td>reddy</td></tr><tr><td>2</td><td>2023</td><td>jan</td><td>a2</td><td>reddy</td></tr><tr><td>3</td><td>2023</td><td>feb</td><td>a3</td><td>reddy</td></tr><tr><td>4</td><td>2023</td><td>feb</td><td>a4</td><td>reddy</td></tr><tr><td>5</td><td>2024</td><td>jan</td><td>a5</td><td>reddy</td></tr><tr><td>6</td><td>2024</td><td>jan</td><td>a6</td><td>reddy</td></tr><tr><td>7</td><td>2024</td><td>feb</td><td>a7</td><td>reddy</td></tr><tr><td>8</td><td>2024</td><td>feb</td><td>a8</td><td>reddy</td></tr></tbody></table></div>"
      ]
     },
     "metadata": {
      "application/vnd.databricks.v1+output": {
       "addedWidgets": {},
       "aggData": [],
       "aggError": "",
       "aggOverflow": false,
       "aggSchema": [],
       "aggSeriesLimitReached": false,
       "aggType": "",
       "arguments": {},
       "columnCustomDisplayInfos": {},
       "data": [
        [
         1,
         "2023",
         "jan",
         "a1",
         "reddy"
        ],
        [
         2,
         "2023",
         "jan",
         "a2",
         "reddy"
        ],
        [
         3,
         "2023",
         "feb",
         "a3",
         "reddy"
        ],
        [
         4,
         "2023",
         "feb",
         "a4",
         "reddy"
        ],
        [
         5,
         "2024",
         "jan",
         "a5",
         "reddy"
        ],
        [
         6,
         "2024",
         "jan",
         "a6",
         "reddy"
        ],
        [
         7,
         "2024",
         "feb",
         "a7",
         "reddy"
        ],
        [
         8,
         "2024",
         "feb",
         "a8",
         "reddy"
        ]
       ],
       "datasetInfos": [],
       "dbfsResultPath": null,
       "isJsonSchema": true,
       "metadata": {},
       "overflow": false,
       "plotOptions": {
        "customPlotOptions": {},
        "displayType": "table",
        "pivotAggregation": null,
        "pivotColumns": null,
        "xColumns": null,
        "yColumns": null
       },
       "removedWidgets": [],
       "schema": [
        {
         "metadata": "{}",
         "name": "id",
         "type": "\"long\""
        },
        {
         "metadata": "{}",
         "name": "year",
         "type": "\"string\""
        },
        {
         "metadata": "{}",
         "name": "month",
         "type": "\"string\""
        },
        {
         "metadata": "{}",
         "name": "fn",
         "type": "\"string\""
        },
        {
         "metadata": "{}",
         "name": "ln",
         "type": "\"string\""
        }
       ],
       "type": "table"
      }
     },
     "output_type": "display_data"
    }
   ],
   "source": [
    "df = spark.createDataFrame([(1, '2023', 'jan', 'a1', 'reddy'), (2, '2023', 'jan', 'a2', 'reddy'), (3, '2023', 'feb', 'a3', 'reddy'), (4, '2023', 'feb', 'a4', 'reddy'), (5, '2024', 'jan', 'a5', 'reddy'), (6, '2024', 'jan', 'a6', 'reddy'), (7, '2024', 'feb', 'a7', 'reddy'), (8, '2024', 'feb', 'a8', 'reddy')], schema = ['id', 'year', 'month', 'fn', 'ln'])\n",
    "\n",
    "df.display()\n",
    "\n"
   ]
  },
  {
   "cell_type": "code",
   "execution_count": 0,
   "metadata": {
    "application/vnd.databricks.v1+cell": {
     "cellMetadata": {
      "byteLimit": 2048000,
      "rowLimit": 10000
     },
     "inputWidgets": {},
     "nuid": "d004184f-5dc3-4aae-954c-436085efe9b1",
     "showTitle": true,
     "tableResultSettingsMap": {},
     "title": "creating dataframe"
    }
   },
   "outputs": [],
   "source": [
    "df1 = spark.createDataFrame([(1, '2023', 'jan', 'a1', 'reddy'), (2, '2023', 'jan', 'a2', 'reddy'), (4, '2023', 'feb', 'a4', 'reddy'), (5, '2024', 'jan', 'a5', 'reddy'), (6, '2024', 'jan', 'a6', 'reddy'), (8, '2024', 'feb', 'a8', 'reddy')], schema = ['id', 'year', 'month', 'fn', 'ln'])"
   ]
  },
  {
   "cell_type": "code",
   "execution_count": 0,
   "metadata": {
    "application/vnd.databricks.v1+cell": {
     "cellMetadata": {
      "byteLimit": 2048000,
      "rowLimit": 10000
     },
     "inputWidgets": {},
     "nuid": "f228435a-bf1b-44c2-bbc2-b8886b8a4cec",
     "showTitle": true,
     "tableResultSettingsMap": {},
     "title": "writing to a delta table"
    }
   },
   "outputs": [],
   "source": [
    "df.write.format('delta').partitionBy('year', 'month').mode('overwrite').option('overwriteSchema', True).save('dbfs:/Users/arjun37ca@gmail.com/asd1')"
   ]
  },
  {
   "cell_type": "code",
   "execution_count": 0,
   "metadata": {
    "application/vnd.databricks.v1+cell": {
     "cellMetadata": {
      "byteLimit": 2048000,
      "rowLimit": 10000
     },
     "inputWidgets": {},
     "nuid": "d232693f-7bad-4211-ad24-43adc72eaf2d",
     "showTitle": true,
     "tableResultSettingsMap": {},
     "title": "product of months and years"
    }
   },
   "outputs": [],
   "source": [
    "years = df1.select(\"year\").distinct().rdd.map(lambda row: row.year).collect()\n",
    "months = df1.select(\"month\").distinct().rdd.map(lambda row: row.month).collect()\n",
    "list_of_year_and_month = [f\"year == '{year}' AND month == '{month}'\" for year, month in product(years, months)]\n",
    "parts = [f\"year={year}/month={month}/\" for year, month in product(years, months)]\n"
   ]
  },
  {
   "cell_type": "code",
   "execution_count": 0,
   "metadata": {
    "application/vnd.databricks.v1+cell": {
     "cellMetadata": {
      "byteLimit": 2048000,
      "rowLimit": 10000
     },
     "inputWidgets": {},
     "nuid": "b8c39541-327b-47b2-a2aa-a4a34445bae1",
     "showTitle": false,
     "tableResultSettingsMap": {},
     "title": ""
    }
   },
   "outputs": [],
   "source": [
    "delta_table = DeltaTable.forPath(spark, f'dbfs:/Users/arjun37ca@gmail.com/asd1/year=2023/month=jan')\n"
   ]
  },
  {
   "cell_type": "code",
   "execution_count": 0,
   "metadata": {
    "application/vnd.databricks.v1+cell": {
     "cellMetadata": {
      "byteLimit": 2048000,
      "rowLimit": 10000
     },
     "inputWidgets": {},
     "nuid": "ff4a4c31-7fe7-45c6-a765-c2b935b22d3f",
     "showTitle": false,
     "tableResultSettingsMap": {},
     "title": ""
    }
   },
   "outputs": [
    {
     "output_type": "display_data",
     "data": {
      "text/html": [
       "<style scoped>\n",
       "  .table-result-container {\n",
       "    max-height: 300px;\n",
       "    overflow: auto;\n",
       "  }\n",
       "  table, th, td {\n",
       "    border: 1px solid black;\n",
       "    border-collapse: collapse;\n",
       "  }\n",
       "  th, td {\n",
       "    padding: 5px;\n",
       "  }\n",
       "  th {\n",
       "    text-align: left;\n",
       "  }\n",
       "</style><div class='table-result-container'><table class='table-result'><thead style='background-color: white'><tr><th>id</th><th>year</th><th>month</th><th>fn</th><th>ln</th></tr></thead><tbody><tr><td>1</td><td>2023</td><td>jan</td><td>a1</td><td>reddy</td></tr><tr><td>2</td><td>2023</td><td>jan</td><td>a2</td><td>reddy</td></tr></tbody></table></div>"
      ]
     },
     "metadata": {
      "application/vnd.databricks.v1+output": {
       "addedWidgets": {},
       "aggData": [],
       "aggError": "",
       "aggOverflow": false,
       "aggSchema": [],
       "aggSeriesLimitReached": false,
       "aggType": "",
       "arguments": {},
       "columnCustomDisplayInfos": {},
       "data": [
        [
         1,
         "2023",
         "jan",
         "a1",
         "reddy"
        ],
        [
         2,
         "2023",
         "jan",
         "a2",
         "reddy"
        ]
       ],
       "datasetInfos": [],
       "dbfsResultPath": null,
       "isJsonSchema": true,
       "metadata": {},
       "overflow": false,
       "plotOptions": {
        "customPlotOptions": {},
        "displayType": "table",
        "pivotAggregation": null,
        "pivotColumns": null,
        "xColumns": null,
        "yColumns": null
       },
       "removedWidgets": [],
       "schema": [
        {
         "metadata": "{}",
         "name": "id",
         "type": "\"long\""
        },
        {
         "metadata": "{}",
         "name": "year",
         "type": "\"string\""
        },
        {
         "metadata": "{}",
         "name": "month",
         "type": "\"string\""
        },
        {
         "metadata": "{}",
         "name": "fn",
         "type": "\"string\""
        },
        {
         "metadata": "{}",
         "name": "ln",
         "type": "\"string\""
        }
       ],
       "type": "table"
      }
     },
     "output_type": "display_data"
    }
   ],
   "source": [
    "delta_table.toDF().display()"
   ]
  },
  {
   "cell_type": "code",
   "execution_count": 0,
   "metadata": {
    "application/vnd.databricks.v1+cell": {
     "cellMetadata": {
      "byteLimit": 2048000,
      "rowLimit": 10000
     },
     "inputWidgets": {},
     "nuid": "0da34583-acb5-4f59-9423-7e0a3bb65853",
     "showTitle": true,
     "tableResultSettingsMap": {},
     "title": "upsert"
    }
   },
   "outputs": [],
   "source": [
    "from itertools import  product\n",
    "from delta.tables import DeltaTable\n",
    "# delta_table = DeltaTable.forPath(spark, 'dbfs:/Users/arjun37ca@gmail.com/asd1')\n",
    "\n",
    "for x, y in zip(list_of_year_and_month, parts):\n",
    "    # print(year_month)\n",
    "    # print(f'dbfs:/Users/arjun37ca@gmail.com/asd1/{year_month}')\n",
    "    delta_table = DeltaTable.forPath(spark, f'dbfs:/Users/arjun37ca@gmail.com/asd1/')\n",
    "    rdf = df1.filter(x)\n",
    "    delta_table.alias('a1').merge(rdf.alias('a2'), 'a1.id == a2.id').whenMatchedUpdateAll().whenNotMatchedInsertAll().execute()\n",
    "        "
   ]
  },
  {
   "cell_type": "code",
   "execution_count": 0,
   "metadata": {
    "application/vnd.databricks.v1+cell": {
     "cellMetadata": {
      "byteLimit": 2048000,
      "rowLimit": 10000
     },
     "inputWidgets": {},
     "nuid": "ed3ff50e-e277-4732-8b9d-3ea84e794ae7",
     "showTitle": false,
     "tableResultSettingsMap": {},
     "title": ""
    }
   },
   "outputs": [
    {
     "output_type": "stream",
     "name": "stdout",
     "output_type": "stream",
     "text": [
      "year == '2023' AND month == 'jan' year == '2023' AND month == 'feb' year == '2024' AND month == 'jan' year == '2024' AND month == 'feb'\n"
     ]
    }
   ],
   "source": [
    "print(*list_of_year_and_month)"
   ]
  },
  {
   "cell_type": "code",
   "execution_count": 0,
   "metadata": {
    "application/vnd.databricks.v1+cell": {
     "cellMetadata": {
      "byteLimit": 2048000,
      "rowLimit": 10000
     },
     "inputWidgets": {},
     "nuid": "52bffcb5-8af1-4139-8e14-4845c429ef8b",
     "showTitle": false,
     "tableResultSettingsMap": {},
     "title": ""
    }
   },
   "outputs": [
    {
     "output_type": "stream",
     "name": "stdout",
     "output_type": "stream",
     "text": [
      "year = 2023/month = jan year = 2023/month = feb year = 2024/month = jan year = 2024/month = feb\n"
     ]
    }
   ],
   "source": [
    "print(*parts)"
   ]
  },
  {
   "cell_type": "code",
   "execution_count": 0,
   "metadata": {
    "application/vnd.databricks.v1+cell": {
     "cellMetadata": {
      "byteLimit": 2048000,
      "rowLimit": 10000
     },
     "inputWidgets": {},
     "nuid": "01ab56b6-4be1-441d-822c-9e3e8e37b7ff",
     "showTitle": false,
     "tableResultSettingsMap": {},
     "title": ""
    }
   },
   "outputs": [
    {
     "output_type": "display_data",
     "data": {
      "text/html": [
       "<style scoped>\n",
       "  .table-result-container {\n",
       "    max-height: 300px;\n",
       "    overflow: auto;\n",
       "  }\n",
       "  table, th, td {\n",
       "    border: 1px solid black;\n",
       "    border-collapse: collapse;\n",
       "  }\n",
       "  th, td {\n",
       "    padding: 5px;\n",
       "  }\n",
       "  th {\n",
       "    text-align: left;\n",
       "  }\n",
       "</style><div class='table-result-container'><table class='table-result'><thead style='background-color: white'><tr><th>path</th><th>name</th><th>size</th><th>modificationTime</th></tr></thead><tbody><tr><td>dbfs:/Users/arjun37ca@gmail.com/asd1/year=2023/month=feb/part-00000-2d85b0fa-e299-4532-8dfd-a626675a1964.c000.snappy.parquet</td><td>part-00000-2d85b0fa-e299-4532-8dfd-a626675a1964.c000.snappy.parquet</td><td>1047</td><td>1740501798000</td></tr><tr><td>dbfs:/Users/arjun37ca@gmail.com/asd1/year=2023/month=feb/part-00000-bd659f9d-7b09-4a64-90f9-353d56df1a46.c000.snappy.parquet</td><td>part-00000-bd659f9d-7b09-4a64-90f9-353d56df1a46.c000.snappy.parquet</td><td>1047</td><td>1740484253000</td></tr><tr><td>dbfs:/Users/arjun37ca@gmail.com/asd1/year=2023/month=feb/part-00002-70ca0c20-0909-42b1-b6ca-6d0895274de2.c000.snappy.parquet</td><td>part-00002-70ca0c20-0909-42b1-b6ca-6d0895274de2.c000.snappy.parquet</td><td>1048</td><td>1740482742000</td></tr><tr><td>dbfs:/Users/arjun37ca@gmail.com/asd1/year=2023/month=feb/part-00002-e6de6a4f-f4c3-4afa-b1b6-74953b5f249f.c000.snappy.parquet</td><td>part-00002-e6de6a4f-f4c3-4afa-b1b6-74953b5f249f.c000.snappy.parquet</td><td>1048</td><td>1740501762000</td></tr><tr><td>dbfs:/Users/arjun37ca@gmail.com/asd1/year=2023/month=feb/part-00003-c37bf344-5cbd-4d7b-997e-23d89211e206.c000.snappy.parquet</td><td>part-00003-c37bf344-5cbd-4d7b-997e-23d89211e206.c000.snappy.parquet</td><td>1047</td><td>1740482742000</td></tr><tr><td>dbfs:/Users/arjun37ca@gmail.com/asd1/year=2023/month=feb/part-00003-c4644535-b20e-4025-8ff1-e5c9dfe0751b.c000.snappy.parquet</td><td>part-00003-c4644535-b20e-4025-8ff1-e5c9dfe0751b.c000.snappy.parquet</td><td>1047</td><td>1740501762000</td></tr></tbody></table></div>"
      ]
     },
     "metadata": {
      "application/vnd.databricks.v1+output": {
       "addedWidgets": {},
       "aggData": [],
       "aggError": "",
       "aggOverflow": false,
       "aggSchema": [],
       "aggSeriesLimitReached": false,
       "aggType": "",
       "arguments": {},
       "columnCustomDisplayInfos": {},
       "data": [
        [
         "dbfs:/Users/arjun37ca@gmail.com/asd1/year=2023/month=feb/part-00000-2d85b0fa-e299-4532-8dfd-a626675a1964.c000.snappy.parquet",
         "part-00000-2d85b0fa-e299-4532-8dfd-a626675a1964.c000.snappy.parquet",
         1047,
         1740501798000
        ],
        [
         "dbfs:/Users/arjun37ca@gmail.com/asd1/year=2023/month=feb/part-00000-bd659f9d-7b09-4a64-90f9-353d56df1a46.c000.snappy.parquet",
         "part-00000-bd659f9d-7b09-4a64-90f9-353d56df1a46.c000.snappy.parquet",
         1047,
         1740484253000
        ],
        [
         "dbfs:/Users/arjun37ca@gmail.com/asd1/year=2023/month=feb/part-00002-70ca0c20-0909-42b1-b6ca-6d0895274de2.c000.snappy.parquet",
         "part-00002-70ca0c20-0909-42b1-b6ca-6d0895274de2.c000.snappy.parquet",
         1048,
         1740482742000
        ],
        [
         "dbfs:/Users/arjun37ca@gmail.com/asd1/year=2023/month=feb/part-00002-e6de6a4f-f4c3-4afa-b1b6-74953b5f249f.c000.snappy.parquet",
         "part-00002-e6de6a4f-f4c3-4afa-b1b6-74953b5f249f.c000.snappy.parquet",
         1048,
         1740501762000
        ],
        [
         "dbfs:/Users/arjun37ca@gmail.com/asd1/year=2023/month=feb/part-00003-c37bf344-5cbd-4d7b-997e-23d89211e206.c000.snappy.parquet",
         "part-00003-c37bf344-5cbd-4d7b-997e-23d89211e206.c000.snappy.parquet",
         1047,
         1740482742000
        ],
        [
         "dbfs:/Users/arjun37ca@gmail.com/asd1/year=2023/month=feb/part-00003-c4644535-b20e-4025-8ff1-e5c9dfe0751b.c000.snappy.parquet",
         "part-00003-c4644535-b20e-4025-8ff1-e5c9dfe0751b.c000.snappy.parquet",
         1047,
         1740501762000
        ]
       ],
       "datasetInfos": [],
       "dbfsResultPath": null,
       "isJsonSchema": true,
       "metadata": {
        "isDbfsCommandResult": false
       },
       "overflow": false,
       "plotOptions": {
        "customPlotOptions": {},
        "displayType": "table",
        "pivotAggregation": null,
        "pivotColumns": null,
        "xColumns": null,
        "yColumns": null
       },
       "removedWidgets": [],
       "schema": [
        {
         "metadata": "{}",
         "name": "path",
         "type": "\"string\""
        },
        {
         "metadata": "{}",
         "name": "name",
         "type": "\"string\""
        },
        {
         "metadata": "{}",
         "name": "size",
         "type": "\"long\""
        },
        {
         "metadata": "{}",
         "name": "modificationTime",
         "type": "\"long\""
        }
       ],
       "type": "table"
      }
     },
     "output_type": "display_data"
    }
   ],
   "source": [
    "%fs ls dbfs:/Users/arjun37ca@gmail.com/asd1/year=2023/month=feb/"
   ]
  },
  {
   "cell_type": "code",
   "execution_count": 0,
   "metadata": {
    "application/vnd.databricks.v1+cell": {
     "cellMetadata": {
      "byteLimit": 2048000,
      "implicitDf": true,
      "rowLimit": 10000
     },
     "inputWidgets": {},
     "nuid": "d769d289-7ccb-4880-b6ba-9e5a83d3cdc7",
     "showTitle": false,
     "tableResultSettingsMap": {},
     "title": ""
    }
   },
   "outputs": [
    {
     "output_type": "display_data",
     "data": {
      "text/html": [
       "<style scoped>\n",
       "  .table-result-container {\n",
       "    max-height: 300px;\n",
       "    overflow: auto;\n",
       "  }\n",
       "  table, th, td {\n",
       "    border: 1px solid black;\n",
       "    border-collapse: collapse;\n",
       "  }\n",
       "  th, td {\n",
       "    padding: 5px;\n",
       "  }\n",
       "  th {\n",
       "    text-align: left;\n",
       "  }\n",
       "</style><div class='table-result-container'><table class='table-result'><thead style='background-color: white'><tr><th>id</th><th>year</th><th>month</th><th>fn</th><th>ln</th></tr></thead><tbody><tr><td>1</td><td>2023</td><td>jan</td><td>a1</td><td>reddy</td></tr><tr><td>2</td><td>2023</td><td>jan</td><td>a2</td><td>reddy</td></tr><tr><td>3</td><td>2023</td><td>feb</td><td>a3</td><td>reddy</td></tr><tr><td>4</td><td>2023</td><td>feb</td><td>a4</td><td>reddy</td></tr></tbody></table></div>"
      ]
     },
     "metadata": {
      "application/vnd.databricks.v1+output": {
       "addedWidgets": {},
       "aggData": [],
       "aggError": "",
       "aggOverflow": false,
       "aggSchema": [],
       "aggSeriesLimitReached": false,
       "aggType": "",
       "arguments": {},
       "columnCustomDisplayInfos": {},
       "data": [
        [
         1,
         "2023",
         "jan",
         "a1",
         "reddy"
        ],
        [
         2,
         "2023",
         "jan",
         "a2",
         "reddy"
        ],
        [
         3,
         "2023",
         "feb",
         "a3",
         "reddy"
        ],
        [
         4,
         "2023",
         "feb",
         "a4",
         "reddy"
        ]
       ],
       "datasetInfos": [],
       "dbfsResultPath": null,
       "isJsonSchema": true,
       "metadata": {},
       "overflow": false,
       "plotOptions": {
        "customPlotOptions": {},
        "displayType": "table",
        "pivotAggregation": null,
        "pivotColumns": null,
        "xColumns": null,
        "yColumns": null
       },
       "removedWidgets": [],
       "schema": [
        {
         "metadata": "{}",
         "name": "id",
         "type": "\"long\""
        },
        {
         "metadata": "{}",
         "name": "year",
         "type": "\"string\""
        },
        {
         "metadata": "{}",
         "name": "month",
         "type": "\"string\""
        },
        {
         "metadata": "{}",
         "name": "fn",
         "type": "\"string\""
        },
        {
         "metadata": "{}",
         "name": "ln",
         "type": "\"string\""
        }
       ],
       "type": "table"
      }
     },
     "output_type": "display_data"
    }
   ],
   "source": [
    "%sql\n",
    "select * from delta.`dbfs:/Users/arjun37ca@gmail.com/asd1/year=2023` "
   ]
  },
  {
   "cell_type": "code",
   "execution_count": 0,
   "metadata": {
    "application/vnd.databricks.v1+cell": {
     "cellMetadata": {
      "byteLimit": 2048000,
      "implicitDf": true,
      "rowLimit": 10000
     },
     "inputWidgets": {},
     "nuid": "28df2a4e-5e92-4a8c-b1aa-39c5153c0ca9",
     "showTitle": false,
     "tableResultSettingsMap": {},
     "title": ""
    }
   },
   "outputs": [
    {
     "output_type": "display_data",
     "data": {
      "text/html": [
       "<style scoped>\n",
       "  .table-result-container {\n",
       "    max-height: 300px;\n",
       "    overflow: auto;\n",
       "  }\n",
       "  table, th, td {\n",
       "    border: 1px solid black;\n",
       "    border-collapse: collapse;\n",
       "  }\n",
       "  th, td {\n",
       "    padding: 5px;\n",
       "  }\n",
       "  th {\n",
       "    text-align: left;\n",
       "  }\n",
       "</style><div class='table-result-container'><table class='table-result'><thead style='background-color: white'><tr><th>id</th><th>year</th><th>month</th><th>fn</th><th>ln</th></tr></thead><tbody><tr><td>1</td><td>2023</td><td>jan</td><td>a1</td><td>reddy</td></tr><tr><td>2</td><td>2023</td><td>jan</td><td>a2</td><td>reddy</td></tr><tr><td>5</td><td>2024</td><td>jan</td><td>a5</td><td>reddy</td></tr><tr><td>6</td><td>2024</td><td>jan</td><td>a6</td><td>reddy</td></tr><tr><td>3</td><td>2023</td><td>feb</td><td>a3</td><td>reddy</td></tr><tr><td>7</td><td>2024</td><td>feb</td><td>a7</td><td>reddy</td></tr><tr><td>8</td><td>2024</td><td>feb</td><td>a8</td><td>reddy</td></tr><tr><td>4</td><td>2023</td><td>feb</td><td>a4</td><td>reddy</td></tr></tbody></table></div>"
      ]
     },
     "metadata": {
      "application/vnd.databricks.v1+output": {
       "addedWidgets": {},
       "aggData": [],
       "aggError": "",
       "aggOverflow": false,
       "aggSchema": [],
       "aggSeriesLimitReached": false,
       "aggType": "",
       "arguments": {},
       "columnCustomDisplayInfos": {},
       "data": [
        [
         1,
         "2023",
         "jan",
         "a1",
         "reddy"
        ],
        [
         2,
         "2023",
         "jan",
         "a2",
         "reddy"
        ],
        [
         5,
         "2024",
         "jan",
         "a5",
         "reddy"
        ],
        [
         6,
         "2024",
         "jan",
         "a6",
         "reddy"
        ],
        [
         3,
         "2023",
         "feb",
         "a3",
         "reddy"
        ],
        [
         7,
         "2024",
         "feb",
         "a7",
         "reddy"
        ],
        [
         8,
         "2024",
         "feb",
         "a8",
         "reddy"
        ],
        [
         4,
         "2023",
         "feb",
         "a4",
         "reddy"
        ]
       ],
       "datasetInfos": [],
       "dbfsResultPath": null,
       "isJsonSchema": true,
       "metadata": {},
       "overflow": false,
       "plotOptions": {
        "customPlotOptions": {},
        "displayType": "table",
        "pivotAggregation": null,
        "pivotColumns": null,
        "xColumns": null,
        "yColumns": null
       },
       "removedWidgets": [],
       "schema": [
        {
         "metadata": "{}",
         "name": "id",
         "type": "\"long\""
        },
        {
         "metadata": "{}",
         "name": "year",
         "type": "\"string\""
        },
        {
         "metadata": "{}",
         "name": "month",
         "type": "\"string\""
        },
        {
         "metadata": "{}",
         "name": "fn",
         "type": "\"string\""
        },
        {
         "metadata": "{}",
         "name": "ln",
         "type": "\"string\""
        }
       ],
       "type": "table"
      }
     },
     "output_type": "display_data"
    }
   ],
   "source": [
    "%sql\n",
    "--delta_table = DeltaTable.forPath(spark, 'dbfs:/Users/arjun37ca@gmail.com/asd1')\n",
    "select * from delta.`dbfs:/Users/arjun37ca@gmail.com/asd1`"
   ]
  },
  {
   "cell_type": "code",
   "execution_count": 0,
   "metadata": {
    "application/vnd.databricks.v1+cell": {
     "cellMetadata": {
      "byteLimit": 2048000,
      "rowLimit": 10000
     },
     "inputWidgets": {},
     "nuid": "446270fb-c7f4-4815-bba8-d9d3462765a4",
     "showTitle": false,
     "tableResultSettingsMap": {},
     "title": ""
    }
   },
   "outputs": [],
   "source": [
    "\n",
    "# Sample dimension tables\n",
    "product_data = [\n",
    "    (1, \"Product A\"),\n",
    "    (2, \"Product B\"),\n",
    "    (3, \"Product C\")\n",
    "]\n",
    "time_data = [\n",
    "    (1, 2025, 2, 24),\n",
    "    (2, 2025, 2, 25)\n",
    "]\n",
    "region_data = [\n",
    "    (1, \"North\"),\n",
    "    (2, \"South\")\n",
    "]\n",
    "\n",
    "# Create DataFrames for dimension tables\n",
    "product_df = spark.createDataFrame(product_data, [\"product_id\", \"product_name\"])\n",
    "time_df = spark.createDataFrame(time_data, [\"time_id\", \"year\", \"month\", \"day\"])\n",
    "region_df = spark.createDataFrame(region_data, [\"region_id\", \"region_name\"])\n",
    "\n",
    "# Sample fact table (sales data)\n",
    "sales_data = [\n",
    "    (1, 1, 1, 1, 100.0),\n",
    "    (2, 2, 2, 2, 150.0),\n",
    "    (3, 1, 1, 2, 200.0)\n",
    "]\n",
    "\n",
    "# Create DataFrame for the fact table (sales)\n",
    "sales_df = spark.createDataFrame(sales_data, [\"sale_id\", \"product_id\", \"time_id\", \"region_id\", \"amount\"])\n"
   ]
  },
  {
   "cell_type": "code",
   "execution_count": 0,
   "metadata": {
    "application/vnd.databricks.v1+cell": {
     "cellMetadata": {
      "byteLimit": 2048000,
      "rowLimit": 10000
     },
     "inputWidgets": {},
     "nuid": "40ad6310-2f50-42d7-a428-7e9a0b1d5214",
     "showTitle": false,
     "tableResultSettingsMap": {},
     "title": ""
    }
   },
   "outputs": [
    {
     "output_type": "display_data",
     "data": {
      "text/html": [
       "<style scoped>\n",
       "  .table-result-container {\n",
       "    max-height: 300px;\n",
       "    overflow: auto;\n",
       "  }\n",
       "  table, th, td {\n",
       "    border: 1px solid black;\n",
       "    border-collapse: collapse;\n",
       "  }\n",
       "  th, td {\n",
       "    padding: 5px;\n",
       "  }\n",
       "  th {\n",
       "    text-align: left;\n",
       "  }\n",
       "</style><div class='table-result-container'><table class='table-result'><thead style='background-color: white'><tr><th>region_id</th><th>time_id</th><th>product_id</th><th>sale_id</th><th>amount</th><th>product_name</th><th>year</th><th>month</th><th>day</th><th>region_name</th></tr></thead><tbody><tr><td>1</td><td>1</td><td>1</td><td>1</td><td>100.0</td><td>Product A</td><td>2025</td><td>2</td><td>24</td><td>North</td></tr><tr><td>2</td><td>2</td><td>2</td><td>2</td><td>150.0</td><td>Product B</td><td>2025</td><td>2</td><td>25</td><td>South</td></tr><tr><td>2</td><td>1</td><td>1</td><td>3</td><td>200.0</td><td>Product A</td><td>2025</td><td>2</td><td>24</td><td>South</td></tr></tbody></table></div>"
      ]
     },
     "metadata": {
      "application/vnd.databricks.v1+output": {
       "addedWidgets": {},
       "aggData": [],
       "aggError": "",
       "aggOverflow": false,
       "aggSchema": [],
       "aggSeriesLimitReached": false,
       "aggType": "",
       "arguments": {},
       "columnCustomDisplayInfos": {},
       "data": [
        [
         1,
         1,
         1,
         1,
         100.0,
         "Product A",
         2025,
         2,
         24,
         "North"
        ],
        [
         2,
         2,
         2,
         2,
         150.0,
         "Product B",
         2025,
         2,
         25,
         "South"
        ],
        [
         2,
         1,
         1,
         3,
         200.0,
         "Product A",
         2025,
         2,
         24,
         "South"
        ]
       ],
       "datasetInfos": [],
       "dbfsResultPath": null,
       "isJsonSchema": true,
       "metadata": {},
       "overflow": false,
       "plotOptions": {
        "customPlotOptions": {},
        "displayType": "table",
        "pivotAggregation": null,
        "pivotColumns": null,
        "xColumns": null,
        "yColumns": null
       },
       "removedWidgets": [],
       "schema": [
        {
         "metadata": "{}",
         "name": "region_id",
         "type": "\"long\""
        },
        {
         "metadata": "{}",
         "name": "time_id",
         "type": "\"long\""
        },
        {
         "metadata": "{}",
         "name": "product_id",
         "type": "\"long\""
        },
        {
         "metadata": "{}",
         "name": "sale_id",
         "type": "\"long\""
        },
        {
         "metadata": "{}",
         "name": "amount",
         "type": "\"double\""
        },
        {
         "metadata": "{}",
         "name": "product_name",
         "type": "\"string\""
        },
        {
         "metadata": "{}",
         "name": "year",
         "type": "\"long\""
        },
        {
         "metadata": "{}",
         "name": "month",
         "type": "\"long\""
        },
        {
         "metadata": "{}",
         "name": "day",
         "type": "\"long\""
        },
        {
         "metadata": "{}",
         "name": "region_name",
         "type": "\"string\""
        }
       ],
       "type": "table"
      }
     },
     "output_type": "display_data"
    }
   ],
   "source": [
    "# Join the fact table with dimension tables to enrich the data\n",
    "fact_df = sales_df \\\n",
    "    .join(product_df, \"product_id\", \"inner\") \\\n",
    "    .join(time_df, \"time_id\", \"inner\") \\\n",
    "    .join(region_df, \"region_id\", \"inner\")\n",
    "\n",
    "fact_df.display()\n"
   ]
  },
  {
   "cell_type": "code",
   "execution_count": 0,
   "metadata": {
    "application/vnd.databricks.v1+cell": {
     "cellMetadata": {
      "byteLimit": 2048000,
      "rowLimit": 10000
     },
     "inputWidgets": {},
     "nuid": "4aedcab8-2ee6-4f8d-9636-4f5a6b1ffcfa",
     "showTitle": false,
     "tableResultSettingsMap": {},
     "title": ""
    }
   },
   "outputs": [
    {
     "output_type": "display_data",
     "data": {
      "text/html": [
       "<style scoped>\n",
       "  .table-result-container {\n",
       "    max-height: 300px;\n",
       "    overflow: auto;\n",
       "  }\n",
       "  table, th, td {\n",
       "    border: 1px solid black;\n",
       "    border-collapse: collapse;\n",
       "  }\n",
       "  th, td {\n",
       "    padding: 5px;\n",
       "  }\n",
       "  th {\n",
       "    text-align: left;\n",
       "  }\n",
       "</style><div class='table-result-container'><table class='table-result'><thead style='background-color: white'><tr><th>product_name</th><th>region_name</th><th>year</th><th>month</th><th>total_sales</th></tr></thead><tbody><tr><td>Product A</td><td>North</td><td>2025</td><td>2</td><td>100</td></tr><tr><td>Product B</td><td>South</td><td>2025</td><td>2</td><td>150</td></tr><tr><td>Product A</td><td>South</td><td>2025</td><td>2</td><td>200</td></tr></tbody></table></div>"
      ]
     },
     "metadata": {
      "application/vnd.databricks.v1+output": {
       "addedWidgets": {},
       "aggData": [],
       "aggError": "",
       "aggOverflow": false,
       "aggSchema": [],
       "aggSeriesLimitReached": false,
       "aggType": "",
       "arguments": {},
       "columnCustomDisplayInfos": {},
       "data": [
        [
         "Product A",
         "North",
         2025,
         2,
         100
        ],
        [
         "Product B",
         "South",
         2025,
         2,
         150
        ],
        [
         "Product A",
         "South",
         2025,
         2,
         200
        ]
       ],
       "datasetInfos": [],
       "dbfsResultPath": null,
       "isJsonSchema": true,
       "metadata": {},
       "overflow": false,
       "plotOptions": {
        "customPlotOptions": {},
        "displayType": "table",
        "pivotAggregation": null,
        "pivotColumns": null,
        "xColumns": null,
        "yColumns": null
       },
       "removedWidgets": [],
       "schema": [
        {
         "metadata": "{}",
         "name": "product_name",
         "type": "\"string\""
        },
        {
         "metadata": "{}",
         "name": "region_name",
         "type": "\"string\""
        },
        {
         "metadata": "{}",
         "name": "year",
         "type": "\"long\""
        },
        {
         "metadata": "{}",
         "name": "month",
         "type": "\"long\""
        },
        {
         "metadata": "{}",
         "name": "total_sales",
         "type": "\"long\""
        }
       ],
       "type": "table"
      }
     },
     "output_type": "display_data"
    }
   ],
   "source": [
    "total_sales_kpi = fact_df.groupBy(\"product_name\", \"region_name\", \"year\", \"month\") \\\n",
    "    .agg(\n",
    "        sum(col(\"amount\").cast(IntegerType())).alias(\"total_sales\")\n",
    "    )\n",
    "\n",
    "total_sales_kpi.display()\n"
   ]
  },
  {
   "cell_type": "code",
   "execution_count": 0,
   "metadata": {
    "application/vnd.databricks.v1+cell": {
     "cellMetadata": {
      "byteLimit": 2048000,
      "rowLimit": 10000
     },
     "inputWidgets": {},
     "nuid": "a72445c5-33d5-44f1-afb8-2d3719cb3509",
     "showTitle": false,
     "tableResultSettingsMap": {},
     "title": ""
    }
   },
   "outputs": [
    {
     "output_type": "display_data",
     "data": {
      "text/html": [
       "<style scoped>\n",
       "  .table-result-container {\n",
       "    max-height: 300px;\n",
       "    overflow: auto;\n",
       "  }\n",
       "  table, th, td {\n",
       "    border: 1px solid black;\n",
       "    border-collapse: collapse;\n",
       "  }\n",
       "  th, td {\n",
       "    padding: 5px;\n",
       "  }\n",
       "  th {\n",
       "    text-align: left;\n",
       "  }\n",
       "</style><div class='table-result-container'><table class='table-result'><thead style='background-color: white'><tr><th>product_name</th><th>region_name</th><th>year</th><th>month</th><th>avg_sale_value</th></tr></thead><tbody><tr><td>Product A</td><td>North</td><td>2025</td><td>2</td><td>100.0</td></tr><tr><td>Product B</td><td>South</td><td>2025</td><td>2</td><td>150.0</td></tr><tr><td>Product A</td><td>South</td><td>2025</td><td>2</td><td>200.0</td></tr></tbody></table></div>"
      ]
     },
     "metadata": {
      "application/vnd.databricks.v1+output": {
       "addedWidgets": {},
       "aggData": [],
       "aggError": "",
       "aggOverflow": false,
       "aggSchema": [],
       "aggSeriesLimitReached": false,
       "aggType": "",
       "arguments": {},
       "columnCustomDisplayInfos": {},
       "data": [
        [
         "Product A",
         "North",
         2025,
         2,
         100.0
        ],
        [
         "Product B",
         "South",
         2025,
         2,
         150.0
        ],
        [
         "Product A",
         "South",
         2025,
         2,
         200.0
        ]
       ],
       "datasetInfos": [],
       "dbfsResultPath": null,
       "isJsonSchema": true,
       "metadata": {},
       "overflow": false,
       "plotOptions": {
        "customPlotOptions": {},
        "displayType": "table",
        "pivotAggregation": null,
        "pivotColumns": null,
        "xColumns": null,
        "yColumns": null
       },
       "removedWidgets": [],
       "schema": [
        {
         "metadata": "{}",
         "name": "product_name",
         "type": "\"string\""
        },
        {
         "metadata": "{}",
         "name": "region_name",
         "type": "\"string\""
        },
        {
         "metadata": "{}",
         "name": "year",
         "type": "\"long\""
        },
        {
         "metadata": "{}",
         "name": "month",
         "type": "\"long\""
        },
        {
         "metadata": "{}",
         "name": "avg_sale_value",
         "type": "\"double\""
        }
       ],
       "type": "table"
      }
     },
     "output_type": "display_data"
    }
   ],
   "source": [
    "avg_sale_value_kpi = fact_df.groupBy(\"product_name\", \"region_name\", \"year\", \"month\") \\\n",
    "    .agg(\n",
    "        (sum(col(\"amount\").cast(IntegerType())) / count(\"sale_id\")).alias(\"avg_sale_value\")\n",
    "    )\n",
    "\n",
    "avg_sale_value_kpi.display()\n"
   ]
  },
  {
   "cell_type": "code",
   "execution_count": 0,
   "metadata": {
    "application/vnd.databricks.v1+cell": {
     "cellMetadata": {
      "byteLimit": 2048000,
      "rowLimit": 10000
     },
     "inputWidgets": {},
     "nuid": "1b3d199f-4d72-4fea-84d0-857b99ba0c96",
     "showTitle": false,
     "tableResultSettingsMap": {},
     "title": ""
    }
   },
   "outputs": [
    {
     "output_type": "display_data",
     "data": {
      "text/html": [
       "<style scoped>\n",
       "  .table-result-container {\n",
       "    max-height: 300px;\n",
       "    overflow: auto;\n",
       "  }\n",
       "  table, th, td {\n",
       "    border: 1px solid black;\n",
       "    border-collapse: collapse;\n",
       "  }\n",
       "  th, td {\n",
       "    padding: 5px;\n",
       "  }\n",
       "  th {\n",
       "    text-align: left;\n",
       "  }\n",
       "</style><div class='table-result-container'><table class='table-result'><thead style='background-color: white'><tr><th>product_name</th><th>region_name</th><th>year</th><th>month</th><th>sales_count</th></tr></thead><tbody><tr><td>Product A</td><td>North</td><td>2025</td><td>2</td><td>1</td></tr><tr><td>Product B</td><td>South</td><td>2025</td><td>2</td><td>1</td></tr><tr><td>Product A</td><td>South</td><td>2025</td><td>2</td><td>1</td></tr></tbody></table></div>"
      ]
     },
     "metadata": {
      "application/vnd.databricks.v1+output": {
       "addedWidgets": {},
       "aggData": [],
       "aggError": "",
       "aggOverflow": false,
       "aggSchema": [],
       "aggSeriesLimitReached": false,
       "aggType": "",
       "arguments": {},
       "columnCustomDisplayInfos": {},
       "data": [
        [
         "Product A",
         "North",
         2025,
         2,
         1
        ],
        [
         "Product B",
         "South",
         2025,
         2,
         1
        ],
        [
         "Product A",
         "South",
         2025,
         2,
         1
        ]
       ],
       "datasetInfos": [],
       "dbfsResultPath": null,
       "isJsonSchema": true,
       "metadata": {},
       "overflow": false,
       "plotOptions": {
        "customPlotOptions": {},
        "displayType": "table",
        "pivotAggregation": null,
        "pivotColumns": null,
        "xColumns": null,
        "yColumns": null
       },
       "removedWidgets": [],
       "schema": [
        {
         "metadata": "{}",
         "name": "product_name",
         "type": "\"string\""
        },
        {
         "metadata": "{}",
         "name": "region_name",
         "type": "\"string\""
        },
        {
         "metadata": "{}",
         "name": "year",
         "type": "\"long\""
        },
        {
         "metadata": "{}",
         "name": "month",
         "type": "\"long\""
        },
        {
         "metadata": "{}",
         "name": "sales_count",
         "type": "\"long\""
        }
       ],
       "type": "table"
      }
     },
     "output_type": "display_data"
    }
   ],
   "source": [
    "sales_count_kpi = fact_df.groupBy(\"product_name\", \"region_name\", \"year\", \"month\") \\\n",
    "    .agg(\n",
    "        count(\"sale_id\").alias(\"sales_count\")\n",
    "    )\n",
    "\n",
    "sales_count_kpi.display()\n"
   ]
  },
  {
   "cell_type": "code",
   "execution_count": 0,
   "metadata": {
    "application/vnd.databricks.v1+cell": {
     "cellMetadata": {
      "byteLimit": 2048000,
      "rowLimit": 10000
     },
     "inputWidgets": {},
     "nuid": "bc06c1ce-48df-4a04-965b-dbf81898d81f",
     "showTitle": false,
     "tableResultSettingsMap": {},
     "title": ""
    }
   },
   "outputs": [
    {
     "output_type": "display_data",
     "data": {
      "text/html": [
       "<style scoped>\n",
       "  .table-result-container {\n",
       "    max-height: 300px;\n",
       "    overflow: auto;\n",
       "  }\n",
       "  table, th, td {\n",
       "    border: 1px solid black;\n",
       "    border-collapse: collapse;\n",
       "  }\n",
       "  th, td {\n",
       "    padding: 5px;\n",
       "  }\n",
       "  th {\n",
       "    text-align: left;\n",
       "  }\n",
       "</style><div class='table-result-container'><table class='table-result'><thead style='background-color: white'><tr><th>product_name</th><th>region_name</th><th>year</th><th>month</th><th>total_sales</th><th>avg_sale_value</th><th>sales_count</th></tr></thead><tbody><tr><td>Product A</td><td>North</td><td>2025</td><td>2</td><td>100</td><td>100.0</td><td>1</td></tr><tr><td>Product B</td><td>South</td><td>2025</td><td>2</td><td>150</td><td>150.0</td><td>1</td></tr><tr><td>Product A</td><td>South</td><td>2025</td><td>2</td><td>200</td><td>200.0</td><td>1</td></tr></tbody></table></div>"
      ]
     },
     "metadata": {
      "application/vnd.databricks.v1+output": {
       "addedWidgets": {},
       "aggData": [],
       "aggError": "",
       "aggOverflow": false,
       "aggSchema": [],
       "aggSeriesLimitReached": false,
       "aggType": "",
       "arguments": {},
       "columnCustomDisplayInfos": {},
       "data": [
        [
         "Product A",
         "North",
         2025,
         2,
         100,
         100.0,
         1
        ],
        [
         "Product B",
         "South",
         2025,
         2,
         150,
         150.0,
         1
        ],
        [
         "Product A",
         "South",
         2025,
         2,
         200,
         200.0,
         1
        ]
       ],
       "datasetInfos": [],
       "dbfsResultPath": null,
       "isJsonSchema": true,
       "metadata": {},
       "overflow": false,
       "plotOptions": {
        "customPlotOptions": {},
        "displayType": "table",
        "pivotAggregation": null,
        "pivotColumns": null,
        "xColumns": null,
        "yColumns": null
       },
       "removedWidgets": [],
       "schema": [
        {
         "metadata": "{}",
         "name": "product_name",
         "type": "\"string\""
        },
        {
         "metadata": "{}",
         "name": "region_name",
         "type": "\"string\""
        },
        {
         "metadata": "{}",
         "name": "year",
         "type": "\"long\""
        },
        {
         "metadata": "{}",
         "name": "month",
         "type": "\"long\""
        },
        {
         "metadata": "{}",
         "name": "total_sales",
         "type": "\"long\""
        },
        {
         "metadata": "{}",
         "name": "avg_sale_value",
         "type": "\"double\""
        },
        {
         "metadata": "{}",
         "name": "sales_count",
         "type": "\"long\""
        }
       ],
       "type": "table"
      }
     },
     "output_type": "display_data"
    }
   ],
   "source": [
    "final_report = total_sales_kpi \\\n",
    "    .join(avg_sale_value_kpi, [\"product_name\", \"region_name\", \"year\", \"month\"]) \\\n",
    "    .join(sales_count_kpi, [\"product_name\", \"region_name\", \"year\", \"month\"])\n",
    "\n",
    "final_report.display()\n"
   ]
  }
 ],
 "metadata": {
  "application/vnd.databricks.v1+notebook": {
   "computePreferences": null,
   "dashboards": [],
   "environmentMetadata": {
    "base_environment": "",
    "client": "1"
   },
   "language": "python",
   "notebookMetadata": {
    "mostRecentlyExecutedCommandWithImplicitDF": {
     "commandId": 2065109314327150,
     "dataframes": [
      "_sqldf"
     ]
    },
    "pythonIndentUnit": 4
   },
   "notebookName": "upsert_and_KPI's",
   "widgets": {}
  }
 },
 "nbformat": 4,
 "nbformat_minor": 0
}
